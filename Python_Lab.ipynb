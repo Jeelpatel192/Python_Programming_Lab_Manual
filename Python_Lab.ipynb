{
  "cells": [
    {
      "cell_type": "markdown",
      "metadata": {
        "id": "view-in-github",
        "colab_type": "text"
      },
      "source": [
        "<a href=\"https://colab.research.google.com/github/Jeelpatel192/Python_Programming_Lab_Manual/blob/main/Python_Lab.ipynb\" target=\"_parent\"><img src=\"https://colab.research.google.com/assets/colab-badge.svg\" alt=\"Open In Colab\"/></a>"
      ]
    },
    {
      "cell_type": "markdown",
      "metadata": {
        "id": "Qfyl2Xnw7KrD"
      },
      "source": [
        "# Program : 1"
      ]
    },
    {
      "cell_type": "markdown",
      "metadata": {
        "id": "eIuftuxDXzhr"
      },
      "source": [
        "**Write a program to demonstrate basic data types and purposefully raise indentation error along with its correction.**"
      ]
    },
    {
      "cell_type": "code",
      "execution_count": null,
      "metadata": {
        "colab": {
          "base_uri": "https://localhost:8080/"
        },
        "id": "CNi-LEnE-Nmt",
        "outputId": "2332ecc1-c0a5-4916-a0af-df265dfa620a"
      },
      "outputs": [
        {
          "name": "stdout",
          "output_type": "stream",
          "text": [
            "<class 'int'>\n"
          ]
        }
      ],
      "source": [
        "a = 10\n",
        "print(type(a))"
      ]
    },
    {
      "cell_type": "code",
      "execution_count": null,
      "metadata": {
        "colab": {
          "base_uri": "https://localhost:8080/"
        },
        "id": "RM8iVREl_mfE",
        "outputId": "1b8fb3c1-a824-42f5-ec08-1609cf064507"
      },
      "outputs": [
        {
          "name": "stdout",
          "output_type": "stream",
          "text": [
            "<class 'float'>\n"
          ]
        }
      ],
      "source": [
        "b = 2.13\n",
        "print(type(b))"
      ]
    },
    {
      "cell_type": "code",
      "execution_count": null,
      "metadata": {
        "colab": {
          "base_uri": "https://localhost:8080/"
        },
        "id": "-AaQo6OG_r5n",
        "outputId": "c9fff506-e16c-413a-ef54-97006b899de4"
      },
      "outputs": [
        {
          "name": "stdout",
          "output_type": "stream",
          "text": [
            "<class 'complex'>\n"
          ]
        }
      ],
      "source": [
        "c = 5 + 6j\n",
        "print(type(c))"
      ]
    },
    {
      "cell_type": "code",
      "execution_count": null,
      "metadata": {
        "colab": {
          "base_uri": "https://localhost:8080/"
        },
        "id": "FB24z-P-_wpf",
        "outputId": "c9373568-f6a2-4799-8245-97e25b11f5d8"
      },
      "outputs": [
        {
          "name": "stdout",
          "output_type": "stream",
          "text": [
            "<class 'str'>\n"
          ]
        }
      ],
      "source": [
        "d = (\"Hello\")\n",
        "print(type(d))"
      ]
    },
    {
      "cell_type": "code",
      "execution_count": null,
      "metadata": {
        "colab": {
          "base_uri": "https://localhost:8080/"
        },
        "id": "xmwpCQgr_5an",
        "outputId": "6ab57a51-c764-4631-fea6-3c421244580d"
      },
      "outputs": [
        {
          "output_type": "stream",
          "name": "stdout",
          "text": [
            "<class 'list'>\n"
          ]
        }
      ],
      "source": [
        "e = [10,\"Patel\"]\n",
        "print(type(e))"
      ]
    },
    {
      "cell_type": "code",
      "execution_count": null,
      "metadata": {
        "colab": {
          "base_uri": "https://localhost:8080/"
        },
        "id": "xM1rzxcOAFLJ",
        "outputId": "6469a984-eaa3-47aa-ed09-6649bfe9bb9d"
      },
      "outputs": [
        {
          "name": "stdout",
          "output_type": "stream",
          "text": [
            "<class 'set'>\n"
          ]
        }
      ],
      "source": [
        "f = {\"Hello\",\"World\"}\n",
        "print(type(f))"
      ]
    },
    {
      "cell_type": "code",
      "execution_count": null,
      "metadata": {
        "colab": {
          "base_uri": "https://localhost:8080/"
        },
        "id": "-f-TjNYXANAq",
        "outputId": "9528142d-0860-433d-86d6-6454450a89e0"
      },
      "outputs": [
        {
          "output_type": "stream",
          "name": "stdout",
          "text": [
            "<class 'dict'>\n"
          ]
        }
      ],
      "source": [
        "g = dict(Name = \"Jazz\",Surname = \"Patel\")\n",
        "print(type(g))"
      ]
    },
    {
      "cell_type": "code",
      "execution_count": null,
      "metadata": {
        "colab": {
          "base_uri": "https://localhost:8080/"
        },
        "id": "6BNOOPbnAa_3",
        "outputId": "c97455fa-3be4-4bdb-b874-9e0420a921b9"
      },
      "outputs": [
        {
          "name": "stdout",
          "output_type": "stream",
          "text": [
            "<class 'bool'>\n"
          ]
        }
      ],
      "source": [
        "i = True\n",
        "print(type(i))"
      ]
    },
    {
      "cell_type": "code",
      "execution_count": null,
      "metadata": {
        "colab": {
          "base_uri": "https://localhost:8080/"
        },
        "id": "wdUUdFrtAhEq",
        "outputId": "386f649b-268a-419f-fe48-2a882e34fb08"
      },
      "outputs": [
        {
          "name": "stdout",
          "output_type": "stream",
          "text": [
            "<class 'bool'>\n"
          ]
        }
      ],
      "source": [
        "j = False\n",
        "print(type(j))"
      ]
    },
    {
      "cell_type": "code",
      "execution_count": null,
      "metadata": {
        "colab": {
          "base_uri": "https://localhost:8080/"
        },
        "id": "ZVEVuZp_EB5m",
        "outputId": "4e3cd3cd-3a3a-4ba6-d34c-c73d6502488a"
      },
      "outputs": [
        {
          "name": "stdout",
          "output_type": "stream",
          "text": [
            "<class 'tuple'>\n"
          ]
        }
      ],
      "source": [
        "v = tuple((\"Hiii\"))\n",
        "print(type(v))"
      ]
    },
    {
      "cell_type": "code",
      "execution_count": null,
      "metadata": {
        "colab": {
          "base_uri": "https://localhost:8080/"
        },
        "id": "YRHzWvyjAlVx",
        "outputId": "c6409ec9-e994-4eb1-9e47-1a0c22998cb0"
      },
      "outputs": [
        {
          "name": "stdout",
          "output_type": "stream",
          "text": [
            "<class 'set'>\n"
          ]
        }
      ],
      "source": [
        "k = {'bye',12}\n",
        "print(type(k))"
      ]
    },
    {
      "cell_type": "markdown",
      "metadata": {
        "id": "IqfVrAk-7RK5"
      },
      "source": [
        "# Program : 2"
      ]
    },
    {
      "cell_type": "markdown",
      "metadata": {
        "id": "Jd6WvUYPX49S"
      },
      "source": [
        "**Write a program to compute distance between two points taking input from the user (Pythagorean Theorem).**"
      ]
    },
    {
      "cell_type": "code",
      "execution_count": null,
      "metadata": {
        "colab": {
          "base_uri": "https://localhost:8080/"
        },
        "id": "rYuHjiFv7lVV",
        "outputId": "b6b2fa28-f2b9-4e6e-b772-fca777929949"
      },
      "outputs": [
        {
          "name": "stdout",
          "output_type": "stream",
          "text": [
            "Enter x1 : 5\n",
            "Enter y1 : 6\n",
            "Enter x2 : 2\n",
            "Enter y2: 3\n",
            "distance between (5, 6) and (2, 3) is :  4.242640687119285\n"
          ]
        }
      ],
      "source": [
        "x1 = int(input(\"Enter x1 : \"))\n",
        "y1 = int(input(\"Enter y1 : \"))\n",
        "x2 = int(input(\"Enter x2 : \"))\n",
        "y2 = int(input(\"Enter y2: \"))\n",
        "\n",
        "result = ((((x2 - x1)**2) + ((y2 - y1)**2))**0.5)\n",
        "#result = math.sqrt((x1 - x2)**2 + (y1 - y2)**2)\n",
        "\n",
        "print(\"distance between\",(x1,y1),\"and\",(x2,y2),\"is : \",result)"
      ]
    },
    {
      "cell_type": "markdown",
      "metadata": {
        "id": "y76NHQH27q5P"
      },
      "source": [
        "# Program : 3"
      ]
    },
    {
      "cell_type": "markdown",
      "metadata": {
        "id": "ROUgOKp7X-eK"
      },
      "source": [
        "**Write a program\n",
        "(a) For checking whether the given number is even or not\n",
        "(b) To check whether given number is Armstrong or not.**"
      ]
    },
    {
      "cell_type": "markdown",
      "metadata": {
        "id": "d8U7DoZuYCwv"
      },
      "source": [
        "**(a) For checking whether the given number is even or not**"
      ]
    },
    {
      "cell_type": "code",
      "execution_count": null,
      "metadata": {
        "colab": {
          "base_uri": "https://localhost:8080/"
        },
        "id": "26KmhrHd7tq7",
        "outputId": "2e531128-e85d-4297-dc97-571683599cf9"
      },
      "outputs": [
        {
          "name": "stdout",
          "output_type": "stream",
          "text": [
            "Enter any numbers to test whether it is odd or even : 5\n",
            "The number is odd\n"
          ]
        }
      ],
      "source": [
        "num = int(input(\"Enter any numbers to test whether it is odd or even : \"))\n",
        "\n",
        "if(num % 2) == 0:\n",
        "  print(\"The number is even\")\n",
        "\n",
        "else:\n",
        "  print(\"The number is odd\")"
      ]
    },
    {
      "cell_type": "markdown",
      "metadata": {
        "id": "R8MTQ-haYJEU"
      },
      "source": [
        "**(b) To check whether given number is Armstrong or not.**"
      ]
    },
    {
      "cell_type": "code",
      "execution_count": null,
      "metadata": {
        "colab": {
          "base_uri": "https://localhost:8080/"
        },
        "id": "qzfLUuzS8ALk",
        "outputId": "14c071c1-4030-4641-b869-d8b864c693fc"
      },
      "outputs": [
        {
          "name": "stdout",
          "output_type": "stream",
          "text": [
            "Enter a number : 123\n",
            "123 is not an Armstrong number\n"
          ]
        }
      ],
      "source": [
        "n = int(input(\"Enter a number : \"))\n",
        "\n",
        "s = 0\n",
        "t = n\n",
        "while t > 0:\n",
        "  digit = t % 10\n",
        "  s += digit ** 3\n",
        "  t //= 10\n",
        "\n",
        "if n == s:\n",
        "  print(n,\"is an Armstrong number\")\n",
        "\n",
        "else:\n",
        "  print(n,\"is not an Armstrong number\")\n"
      ]
    },
    {
      "cell_type": "markdown",
      "metadata": {
        "id": "CStE7RW77uDC"
      },
      "source": [
        "# Program : 4"
      ]
    },
    {
      "cell_type": "markdown",
      "metadata": {
        "id": "EpBuT_gWYO-V"
      },
      "source": [
        "**Write a program using a while loop that asks the user for a number and prints a countdown from that number to zero.**"
      ]
    },
    {
      "cell_type": "code",
      "execution_count": null,
      "metadata": {
        "colab": {
          "base_uri": "https://localhost:8080/"
        },
        "id": "3U4YJKqC7yW5",
        "outputId": "85c5890c-52ac-4bd4-d1e7-c4aca5a38261"
      },
      "outputs": [
        {
          "output_type": "stream",
          "name": "stdout",
          "text": [
            "Enter the Number : 5\n",
            "5\n",
            "4\n",
            "3\n",
            "2\n",
            "1\n",
            "0\n"
          ]
        }
      ],
      "source": [
        "a = int(input(\"Enter the Number : \"))\n",
        "i = a\n",
        "\n",
        "while i >= 0:\n",
        "  print(i)\n",
        "  i = i - 1"
      ]
    },
    {
      "cell_type": "markdown",
      "metadata": {
        "id": "KWvxm3CD7ywC"
      },
      "source": [
        "# Program : 5"
      ]
    },
    {
      "cell_type": "markdown",
      "metadata": {
        "id": "vlMSz8waYWFE"
      },
      "source": [
        "**Write a program to count the number of characters in the string and store them in a dictionary data structure.**"
      ]
    },
    {
      "cell_type": "code",
      "execution_count": null,
      "metadata": {
        "colab": {
          "base_uri": "https://localhost:8080/"
        },
        "id": "oLRuyfID71Ua",
        "outputId": "8845c515-7c43-44c1-f9e9-a49b33cbad4f"
      },
      "outputs": [
        {
          "output_type": "stream",
          "name": "stdout",
          "text": [
            "Enter a string : Hello\n",
            "{'H': 1, 'e': 1, 'l': 2, 'o': 1}\n"
          ]
        }
      ],
      "source": [
        "a = str(input(\"Enter a string : \"))\n",
        "b = { }\n",
        "for i in a:\n",
        "  b[i] = a.count(i)\n",
        "print(b)"
      ]
    },
    {
      "cell_type": "markdown",
      "metadata": {
        "id": "xNZy7JzT71nx"
      },
      "source": [
        "# Program : 6"
      ]
    },
    {
      "cell_type": "markdown",
      "metadata": {
        "id": "ZIZoXEJxYa2D"
      },
      "source": [
        "**Write a program to demonstrate list and tuple in python. Write a program using a for loop that loops over a sequence.**"
      ]
    },
    {
      "cell_type": "code",
      "execution_count": null,
      "metadata": {
        "colab": {
          "base_uri": "https://localhost:8080/"
        },
        "id": "-nuwCW1U73Os",
        "outputId": "45773814-0ad7-443a-cbd7-05ecd80c61dc"
      },
      "outputs": [
        {
          "output_type": "stream",
          "name": "stdout",
          "text": [
            "['Path', 'Python']\n",
            "('cotlin', 'java')\n",
            "Path\n",
            "Python\n",
            "cotlin\n",
            "java\n"
          ]
        }
      ],
      "source": [
        "list = [\"Path\",\"Python\"]\n",
        "print(list)\n",
        "\n",
        "tuple = (\"cotlin\",\"java\")\n",
        "print(tuple)\n",
        "\n",
        "for i in list:\n",
        "  print(i)\n",
        "for i in tuple:\n",
        "  print(i)"
      ]
    },
    {
      "cell_type": "markdown",
      "metadata": {
        "id": "pzPhCMg2tXKS"
      },
      "source": [
        "# Program : 7"
      ]
    },
    {
      "cell_type": "markdown",
      "metadata": {
        "id": "BczP83tIYipF"
      },
      "source": [
        "**Write a python program that should perform the following four tasks: (1) After getting a word (of input) from the user, your program should use a while (or for) loop to print outreach of the letters of the word. just remember that strings in python start with element 0!  (2) Your program should then use another loop to print out each of the letters of the (same) word in reverse order.\t(3) Make a new variable that is the original word in reverse and print that variable. you can do this easily in python with a “string slice”. (4) Ask the user for a letter to count. Use another loop to count how many times that letter appears in the original word. print out this count.**"
      ]
    },
    {
      "cell_type": "markdown",
      "metadata": {
        "id": "Ugjwlpi6lbQs"
      },
      "source": [
        "**1. After getting a word (of input) from the user, your program should use a while (or for) loop to print out each of the letters of the word. Just remember that strings in Python start with element 0!**"
      ]
    },
    {
      "cell_type": "code",
      "execution_count": null,
      "metadata": {
        "colab": {
          "base_uri": "https://localhost:8080/"
        },
        "id": "xunHjy6ytgEF",
        "outputId": "2ad0a203-78d2-4488-d7c4-39a51836162a"
      },
      "outputs": [
        {
          "name": "stdout",
          "output_type": "stream",
          "text": [
            "Enter the Word :- String\n",
            "Please enter again \n"
          ]
        }
      ],
      "source": [
        "str = input (\"Enter the Word :- \")\n",
        "if str [ : 2] == \"0!\":\n",
        "    for i in range (len(str)) :\n",
        "        print (str[i])\n",
        "else :\n",
        "    print (\"Please enter again \")"
      ]
    },
    {
      "cell_type": "markdown",
      "metadata": {
        "id": "GiqjJeBNlbh1"
      },
      "source": [
        "**2. Your program should then use another loop to print out each of the letters of the (same) word in reverse order!**"
      ]
    },
    {
      "cell_type": "code",
      "execution_count": null,
      "metadata": {
        "colab": {
          "base_uri": "https://localhost:8080/"
        },
        "id": "0HED5Ml3lZdV",
        "outputId": "57eaedda-0028-4ad1-b69c-c3aeeb08d9a5"
      },
      "outputs": [
        {
          "name": "stdout",
          "output_type": "stream",
          "text": [
            "Enter the Word :- Good\n",
            "d\n",
            "o\n",
            "o\n",
            "G\n"
          ]
        }
      ],
      "source": [
        "str = input (\"Enter the Word :- \")\n",
        "for i in range (-1, -len(str) - 1, -1) :\n",
        "    print (str[i])"
      ]
    },
    {
      "cell_type": "markdown",
      "metadata": {
        "id": "xgFs-vu4lcAE"
      },
      "source": [
        "**3. Make a new variable that is the original word in reverse and print that variable. You can do this very easily in Python with a \"string slice\".**"
      ]
    },
    {
      "cell_type": "code",
      "execution_count": null,
      "metadata": {
        "colab": {
          "base_uri": "https://localhost:8080/"
        },
        "id": "uL5uDuS7lauH",
        "outputId": "918d71e9-ad5f-48f8-e6ec-ec4e5d7a2702"
      },
      "outputs": [
        {
          "name": "stdout",
          "output_type": "stream",
          "text": [
            "Enter the Word :- Karnavati\n",
            "itavanraK\n"
          ]
        }
      ],
      "source": [
        "str = input (\"Enter the Word :- \")\n",
        "newstr = str[-1 : : -1]\n",
        "print (newstr)"
      ]
    },
    {
      "cell_type": "markdown",
      "metadata": {
        "id": "BunukZqflbxK"
      },
      "source": [
        "**4. Ask the user for a letter to count. Use another loop to count how many times that letter appears in the original word. Print out this count.**"
      ]
    },
    {
      "cell_type": "code",
      "execution_count": null,
      "metadata": {
        "colab": {
          "base_uri": "https://localhost:8080/"
        },
        "id": "nw1-gz4Wla_x",
        "outputId": "016c2ea6-9291-4432-9841-33c7d702c067"
      },
      "outputs": [
        {
          "output_type": "stream",
          "name": "stdout",
          "text": [
            "Enter the Word :- Hello\n",
            "Enter a letter to count :- l\n",
            "Number of letter :-  2\n"
          ]
        }
      ],
      "source": [
        "str = input (\"Enter the Word :- \")\n",
        "letter = input (\"Enter a letter to count :- \") \n",
        "count = 0\n",
        "for i in str :\n",
        "    if i == letter :\n",
        "        count += 1\n",
        "print (\"Number of letter :- \", count )"
      ]
    },
    {
      "cell_type": "markdown",
      "metadata": {
        "id": "Za1gOqrItn0U"
      },
      "source": [
        "# Program : 8"
      ]
    },
    {
      "cell_type": "markdown",
      "metadata": {
        "id": "-SLKSNcgq6P1"
      },
      "source": [
        "**Write a program to print the mean, median, mode and range of the list.**"
      ]
    },
    {
      "cell_type": "markdown",
      "metadata": {
        "id": "ea3bVoCWh3lf"
      },
      "source": [
        "**Mean**"
      ]
    },
    {
      "cell_type": "code",
      "execution_count": null,
      "metadata": {
        "colab": {
          "base_uri": "https://localhost:8080/"
        },
        "id": "gAUXaJvdibMB",
        "outputId": "3f09a803-1fd4-41b3-be29-785d55145096"
      },
      "outputs": [
        {
          "name": "stdout",
          "output_type": "stream",
          "text": [
            "Mean / Average is: 3.0\n"
          ]
        }
      ],
      "source": [
        "num = [1, 2, 3, 4, 5]\n",
        "n = len(num)\n",
        "  \n",
        "get_sum = sum(num)\n",
        "mean = get_sum / n\n",
        "  \n",
        "print(\"Mean / Average is: \" + str(mean))"
      ]
    },
    {
      "cell_type": "markdown",
      "metadata": {
        "id": "locgKYv6Mdzm"
      },
      "source": [
        "**Median**"
      ]
    },
    {
      "cell_type": "code",
      "execution_count": null,
      "metadata": {
        "colab": {
          "base_uri": "https://localhost:8080/"
        },
        "id": "I2voYVZ0h_BG",
        "outputId": "64865715-3ca3-4849-966e-7a9fe998dd06"
      },
      "outputs": [
        {
          "name": "stdout",
          "output_type": "stream",
          "text": [
            "Median is: 3\n"
          ]
        }
      ],
      "source": [
        "num = [1, 2, 3, 4, 5]\n",
        "n = len(num)\n",
        "num.sort()\n",
        "  \n",
        "if n % 2 == 0:\n",
        "    median1 = num[n//2]\n",
        "    median2 = num[n//2 - 1]\n",
        "    median = (median1 + median2)/2\n",
        "else:\n",
        "    median = num[n//2]\n",
        "print(\"Median is: \" + str(median))"
      ]
    },
    {
      "cell_type": "markdown",
      "metadata": {
        "id": "_ialcPiQh_Zp"
      },
      "source": [
        "**Mode**"
      ]
    },
    {
      "cell_type": "code",
      "source": [
        "y= [11, 8, 8, 3, 4, 4, 5, 6, 6, 6, 7, 8]\n",
        "y.sort()\n",
        "L1=[]\n",
        "i = 0\n",
        "while i < len(y) :\n",
        "    L1.append(y.count(y[i]))\n",
        "    i += 1\n",
        "d1 = dict(zip(y, L1))\n",
        "d2={k for (k,v) in d1.items() if v == max(L1) }\n",
        "print(\"mode is \",(d2))"
      ],
      "metadata": {
        "colab": {
          "base_uri": "https://localhost:8080/"
        },
        "id": "p6vpaOSvuaJ7",
        "outputId": "6bd0b0ab-b167-4566-fe60-bfbe2b29b62d"
      },
      "execution_count": null,
      "outputs": [
        {
          "output_type": "stream",
          "name": "stdout",
          "text": [
            "mode is  {8, 6}\n",
            "mode is  {8, 6}\n"
          ]
        }
      ]
    },
    {
      "cell_type": "markdown",
      "metadata": {
        "id": "Nssh9yUbiCu-"
      },
      "source": [
        "**Range**"
      ]
    },
    {
      "cell_type": "code",
      "execution_count": null,
      "metadata": {
        "colab": {
          "base_uri": "https://localhost:8080/"
        },
        "id": "d_0REZ4ii4tt",
        "outputId": "3d3217a1-384d-480a-a110-fe733e46310c"
      },
      "outputs": [
        {
          "output_type": "stream",
          "name": "stdout",
          "text": [
            "The range is 1, 12\n"
          ]
        }
      ],
      "source": [
        "nums = [9, 4, 6, 6, 5, 2, 10, 12, 1, 4, 4, 6]\n",
        "\n",
        "minimum = min(nums)\n",
        "maximum = max(nums)\n",
        "\n",
        "print(f'The range is {minimum}, {maximum}')"
      ]
    },
    {
      "cell_type": "markdown",
      "metadata": {
        "id": "dkbQJ-F_Mm3M"
      },
      "source": [
        "#Program : 9"
      ]
    },
    {
      "cell_type": "markdown",
      "metadata": {
        "id": "lNF-9S0gQLH3"
      },
      "source": [
        "**Write a program that uses a dictionary that contains ten usernames and passwords. the program should ask the user to enter their usernames and passwords. if the username is not in the dictionary, the program should indicate that the person is not a valid user of the system. if the username is in the dictionary, but the user does not enter the right password, the program should say that the password is invalid. if the password is correct, then the program should tell the user that they are now logged into the system.**"
      ]
    },
    {
      "cell_type": "code",
      "execution_count": null,
      "metadata": {
        "colab": {
          "base_uri": "https://localhost:8080/"
        },
        "id": "WOrUT1rjQEKy",
        "outputId": "9c3d4dbb-487c-4030-f08c-45ef6ba59e24"
      },
      "outputs": [
        {
          "output_type": "stream",
          "name": "stdout",
          "text": [
            "Enter username :- Portal\n",
            "Enter password :- 1912\n",
            "You are now logged into the system.\n"
          ]
        }
      ],
      "source": [
        "dic = {'Path' : \"2003\",\n",
        "       'walla' : \"1809\",\n",
        "       'Portal' : \"1912\",\n",
        "       'Express' : \"2003\",\n",
        "       'Computer' : \"9834\",\n",
        "       'Python' : \"1990\",\n",
        "       'Mysql' : \"2001\",\n",
        "       'c++' : \"1996\",\n",
        "       'java' : \"1998\",\n",
        "       'html' : \"1999\" }\n",
        "\n",
        "username = input(\"Enter username :- \")\n",
        "\n",
        "if username in dic :\n",
        "    password = input(\"Enter password :- \")\n",
        "    if dic[username] == password :\n",
        "        print (\"You are now logged into the system.\")\n",
        "    else :\n",
        "        print (\"Invalid password.\")\n",
        "else :\n",
        "    print (\"You are not valid user.\")"
      ]
    },
    {
      "cell_type": "markdown",
      "metadata": {
        "id": "VGbsot7qM53v"
      },
      "source": [
        "# Program : 10"
      ]
    },
    {
      "cell_type": "markdown",
      "metadata": {
        "id": "4QVVo6D0Oij0"
      },
      "source": [
        "**Write a Python program to convert a given tuple of positive integers into an integer. Original tuple: (1, 2, 3) Convert the said tuple of positive integers into an integer: 123**\n"
      ]
    },
    {
      "cell_type": "code",
      "execution_count": null,
      "metadata": {
        "colab": {
          "base_uri": "https://localhost:8080/"
        },
        "id": "AmekZdCcM7tQ",
        "outputId": "00f96604-5521-497b-c288-a46cf8bd1f15"
      },
      "outputs": [
        {
          "name": "stdout",
          "output_type": "stream",
          "text": [
            "Original tuple: \n",
            "(1, 2, 3)\n",
            "Convert the said tuple of positive integers into an integer:\n",
            "123\n"
          ]
        }
      ],
      "source": [
        "def tuple_to_int(nums):\n",
        "    result = int(''.join(map(str,nums)))\n",
        "    return result\n",
        "\n",
        "nums = (1,2,3)\n",
        "print(\"Original tuple: \") \n",
        "print(nums)\n",
        "print(\"Convert the said tuple of positive integers into an integer:\")\n",
        "print(tuple_to_int(nums))"
      ]
    },
    {
      "cell_type": "markdown",
      "metadata": {
        "id": "0w7Xm3vmPlk_"
      },
      "source": [
        "#Program : 11"
      ]
    },
    {
      "cell_type": "markdown",
      "metadata": {
        "id": "nPd9ILAtQ9G8"
      },
      "source": [
        "**Write a Python program to sort a list of tuples using Lambda. Original list of tuples: – Original list of tuples: – [('Discrete Mathematics', 93), ('Python Programming', 95), ('Environmental Science', 88), ('Engineering Physics', 83)] – Sorting the List of Tuples: – [('Engineering Physics', 83), ('Environmental Science', 88), ('Discrete Mathematics', 93), ('Python Programming', 95)]**"
      ]
    },
    {
      "cell_type": "code",
      "execution_count": null,
      "metadata": {
        "colab": {
          "base_uri": "https://localhost:8080/"
        },
        "id": "Ki9hZQ7BQ9al",
        "outputId": "a28cb648-e4ce-410b-9ecc-b7a790facb1e"
      },
      "outputs": [
        {
          "name": "stdout",
          "output_type": "stream",
          "text": [
            "Original list of tuples:\n",
            "[('Discrete Mathematics', 93), ('Python Programming', 95), ('Environmental Science', 88), ('Engineering Physics', 83)]\n",
            "\n",
            "Sorting the List of Tuples:\n",
            "[('Engineering Physics', 83), ('Environmental Science', 88), ('Discrete Mathematics', 93), ('Python Programming', 95)]\n"
          ]
        }
      ],
      "source": [
        "subject_marks = [('Discrete Mathematics', 93), ('Python Programming', 95), ('Environmental Science', 88), ('Engineering Physics', 83)] \n",
        "print(\"Original list of tuples:\")\n",
        "print(subject_marks)\n",
        "subject_marks.sort(key = lambda x: x[1])\n",
        "print(\"\\nSorting the List of Tuples:\")\n",
        "print(subject_marks)"
      ]
    },
    {
      "cell_type": "markdown",
      "metadata": {
        "id": "oRCimdM7Pn-2"
      },
      "source": [
        "#Program : 12"
      ]
    },
    {
      "cell_type": "markdown",
      "metadata": {
        "id": "Vw5PHxeLRbR8"
      },
      "source": [
        "**1.Write a program that inputs a tuple having words of a string as its element e.g., (“The”,” quick”,” brown”, “fox”) and then translate each text element to pig Latin.**"
      ]
    },
    {
      "cell_type": "code",
      "execution_count": null,
      "metadata": {
        "colab": {
          "base_uri": "https://localhost:8080/"
        },
        "id": "f_SteCccRbmU",
        "outputId": "b737418b-8e25-40bb-c60f-bacef99b8f15"
      },
      "outputs": [
        {
          "output_type": "stream",
          "name": "stdout",
          "text": [
            "heTay uickqay rownbay oxfay "
          ]
        }
      ],
      "source": [
        "tup = (\"The\", \"quick\", \"brown\", \"fox\")\n",
        "index = 0\n",
        "while index < len(tup):\n",
        "    new = tup[ index ][1 : ] + tup[ index ][ 0 ] + \"ay\"\n",
        "    print (new, end = \" \")\n",
        "    index += 1"
      ]
    },
    {
      "cell_type": "markdown",
      "metadata": {
        "id": "D_dl_uPYdVBp"
      },
      "source": [
        "**2.Write a program that takes a tuple with words in pig latin (as created by previous question) and translate it back to original text.**"
      ]
    },
    {
      "cell_type": "code",
      "execution_count": null,
      "metadata": {
        "colab": {
          "base_uri": "https://localhost:8080/"
        },
        "id": "HAV8XbnGdbOM",
        "outputId": "987118c2-ae34-43fc-c262-f135ef4cf281"
      },
      "outputs": [
        {
          "output_type": "stream",
          "name": "stdout",
          "text": [
            "The quick brown fox "
          ]
        }
      ],
      "source": [
        "tup =(\"heTay\",\"uickqay\",\"rownbay\", \"oxfay\") \n",
        "index = 0\n",
        "while index < len(tup):\n",
        "    new = tup[ index ][ -3 ] + tup[ index ][0 : -3 ] \n",
        "    print (new, end = \" \")\n",
        "    index += 1"
      ]
    },
    {
      "cell_type": "markdown",
      "metadata": {
        "id": "hjNoQBowPuXu"
      },
      "source": [
        "#Program : 13"
      ]
    },
    {
      "cell_type": "markdown",
      "metadata": {
        "id": "CFQ5fWJ3gHgJ"
      },
      "source": [
        "**Write a program to print Fibonacci Series using recursion.**"
      ]
    },
    {
      "cell_type": "code",
      "execution_count": null,
      "metadata": {
        "colab": {
          "base_uri": "https://localhost:8080/"
        },
        "id": "Zt_zt_nkfLEr",
        "outputId": "80bd015c-7828-4f50-a9af-3f3415407983"
      },
      "outputs": [
        {
          "name": "stdout",
          "output_type": "stream",
          "text": [
            "How many terms? 5\n",
            "Fibonacci sequence:\n",
            "0\n",
            "1\n",
            "1\n",
            "2\n",
            "3\n"
          ]
        }
      ],
      "source": [
        "def recur_fibo(n):  \n",
        "   if n <= 1:  \n",
        "       return n  \n",
        "   else:  \n",
        "       return(recur_fibo(n-1) + recur_fibo(n-2))  \n",
        "\n",
        "nterms = int(input(\"How many terms? \"))  \n",
        "\n",
        "if nterms <= 0:  \n",
        "   print(\"Plese enter a positive integer\")  \n",
        "else:  \n",
        "   print(\"Fibonacci sequence:\")  \n",
        "   for i in range(nterms):  \n",
        "       print(recur_fibo(i))  "
      ]
    },
    {
      "cell_type": "markdown",
      "metadata": {
        "id": "oP2JEEpjOqXu"
      },
      "source": [
        "# Program : 14"
      ]
    },
    {
      "cell_type": "markdown",
      "metadata": {
        "id": "Yizb6F7QOuMH"
      },
      "source": [
        "**Write a menu-driven program to implement linear search and binary search.**"
      ]
    },
    {
      "cell_type": "markdown",
      "metadata": {
        "id": "ozyacHcmO2b0"
      },
      "source": [
        "**Linear search**"
      ]
    },
    {
      "cell_type": "code",
      "execution_count": null,
      "metadata": {
        "colab": {
          "base_uri": "https://localhost:8080/"
        },
        "id": "zwuWR_xyMfqr",
        "outputId": "7bc8ce36-73d6-4b9e-8d5a-22eddf94bb5f"
      },
      "outputs": [
        {
          "name": "stdout",
          "output_type": "stream",
          "text": [
            "Element found at index:  3\n"
          ]
        }
      ],
      "source": [
        "def LinearSearch(array, n, k):\n",
        "\n",
        "    for j in range(0, n):\n",
        "\n",
        "        if (array[j] == k):\n",
        "\n",
        "            return j\n",
        "\n",
        "    return -1\n",
        "\n",
        " \n",
        "array = [1, 3, 5, 7, 9]\n",
        "\n",
        "k = 7\n",
        "n = len(array)\n",
        "\n",
        "result = LinearSearch(array, n, k)\n",
        "\n",
        "if(result == -1):\n",
        "\n",
        "    print(\"Element not found\")\n",
        "\n",
        "else:\n",
        "\n",
        "    print(\"Element found at index: \", result)"
      ]
    },
    {
      "cell_type": "markdown",
      "metadata": {
        "id": "pmwMlsdGPN3x"
      },
      "source": [
        "**Binary Search**"
      ]
    },
    {
      "cell_type": "code",
      "execution_count": null,
      "metadata": {
        "colab": {
          "base_uri": "https://localhost:8080/"
        },
        "id": "7tCmIwXuMnDF",
        "outputId": "4e68d1f4-a04f-47af-df71-974855498e49"
      },
      "outputs": [
        {
          "name": "stdout",
          "output_type": "stream",
          "text": [
            "Element is present at index 2\n"
          ]
        }
      ],
      "source": [
        "def binarySearch(arr, k, low, high):\n",
        "   \n",
        "    while low <= high:\n",
        "        mid = low + (high - low)//2\n",
        "        if arr[mid] == k:\n",
        "            return mid\n",
        "        elif arr[mid] < k:\n",
        "            low = mid + 1\n",
        "        else:\n",
        "            high = mid - 1\n",
        "    return -1\n",
        "\n",
        "arr = [1, 3, 5, 7, 9]\n",
        "\n",
        "k = 5\n",
        "result = binarySearch(arr, k, 0, len(arr)-1)\n",
        "\n",
        "if result != -1:\n",
        "    print(\"Element is present at index \" + str(result))\n",
        "else:\n",
        "    print(\"Not found\")"
      ]
    },
    {
      "cell_type": "markdown",
      "metadata": {
        "id": "0YdY1QSrPy28"
      },
      "source": [
        "#Program : 15"
      ]
    },
    {
      "cell_type": "markdown",
      "metadata": {
        "id": "2f8Kil6oXhA3"
      },
      "source": [
        "**Write a program to implement merge sort, selection sort and insertion sort.**"
      ]
    },
    {
      "cell_type": "markdown",
      "metadata": {
        "id": "2UcgoCOyVDaL"
      },
      "source": [
        "**merge sort**"
      ]
    },
    {
      "cell_type": "code",
      "source": [
        "def mergeSort(arr):\n",
        "\tif len(arr) > 1:\n",
        "\n",
        "\t\tmid = len(arr)//2\n",
        "\n",
        "\t\tL = arr[:mid]\n",
        "\t\tR = arr[mid:]\n",
        "\n",
        "\t\tmergeSort(L)\n",
        "\t\tmergeSort(R)\n",
        "\n",
        "\t\ti = j = k = 0\n",
        "\n",
        "\t\twhile i < len(L) and j < len(R):\n",
        "\t\t\tif L[i] < R[j]:\n",
        "\t\t\t\tarr[k] = L[i]\n",
        "\t\t\t\ti += 1\n",
        "\t\t\telse:\n",
        "\t\t\t\tarr[k] = R[j]\n",
        "\t\t\t\tj += 1\n",
        "\t\t\tk += 1\n",
        "\n",
        "\t\twhile i < len(L):\n",
        "\t\t\tarr[k] = L[i]\n",
        "\t\t\ti += 1\n",
        "\t\t\tk += 1\n",
        "\n",
        "\t\twhile j < len(R):\n",
        "\t\t\tarr[k] = R[j]\n",
        "\t\t\tj += 1\n",
        "\t\t\tk += 1\n",
        "\n",
        "def printList(arr):\n",
        "\tfor i in range(len(arr)):\n",
        "\t\tprint(arr[i], end=\" \")\n",
        "\tprint()\n",
        "\n",
        "if __name__ == '__main__':\n",
        "\tarr = [12, 11, 13, 5, 6, 7]\n",
        "\tprint(\"Given array is\", end=\"\\n\")\n",
        "\tprintList(arr)\n",
        "\tmergeSort(arr)\n",
        "\tprint(\"Sorted array is: \", end=\"\\n\")\n",
        "\tprintList(arr)"
      ],
      "metadata": {
        "colab": {
          "base_uri": "https://localhost:8080/"
        },
        "id": "5lfZvX4fyJN-",
        "outputId": "a2094b73-32fd-48c9-d95a-0711d825d601"
      },
      "execution_count": null,
      "outputs": [
        {
          "output_type": "stream",
          "name": "stdout",
          "text": [
            "Given array is\n",
            "12 11 13 5 6 7 \n",
            "Sorted array is: \n",
            "5 6 7 11 12 13 \n"
          ]
        }
      ]
    },
    {
      "cell_type": "markdown",
      "metadata": {
        "id": "iWTQXCUfVDvO"
      },
      "source": [
        "**selection sort**"
      ]
    },
    {
      "cell_type": "code",
      "execution_count": null,
      "metadata": {
        "colab": {
          "base_uri": "https://localhost:8080/"
        },
        "id": "pbZRHksWVERr",
        "outputId": "6f2bae2e-5179-4226-deed-4dc0aa635805"
      },
      "outputs": [
        {
          "output_type": "stream",
          "name": "stdout",
          "text": [
            "[3, 8, 11, 12, 20]\n"
          ]
        }
      ],
      "source": [
        "def selection_sort(nums):\n",
        "  \n",
        "    for i in range(len(nums)):\n",
        "        lowestvalue = i\n",
        "\n",
        "        for j in range(i + 1, len(nums)):\n",
        "            if nums[j] < nums[lowestvalue]:\n",
        "                lowestvalue = j\n",
        "        \n",
        "        nums[i], nums[lowestvalue] = nums[lowestvalue], nums[i]\n",
        "\n",
        "random_list_of_nums = [12, 8, 3, 20, 11]\n",
        "selection_sort(random_list_of_nums)\n",
        "print(random_list_of_nums)"
      ]
    },
    {
      "cell_type": "markdown",
      "metadata": {
        "id": "kR9wCJNeVEiQ"
      },
      "source": [
        "**insertion sort.**"
      ]
    },
    {
      "cell_type": "code",
      "execution_count": null,
      "metadata": {
        "colab": {
          "base_uri": "https://localhost:8080/"
        },
        "id": "BEspUUm4VGH_",
        "outputId": "40ab7518-cb1b-4cb3-e12e-412952ada7a3"
      },
      "outputs": [
        {
          "output_type": "stream",
          "name": "stdout",
          "text": [
            "[1, 6, 9, 28]\n"
          ]
        }
      ],
      "source": [
        "def insertion_sort(nums):\n",
        "    \n",
        "    for i in range(1, len(nums)):\n",
        "        item_to_insert = nums[i]\n",
        "        \n",
        "        j = i - 1\n",
        "        \n",
        "        while j >= 0 and nums[j] > item_to_insert:\n",
        "            nums[j + 1] = nums[j]\n",
        "            j -= 1\n",
        "        \n",
        "        nums[j + 1] = item_to_insert\n",
        "\n",
        "random_list_of_nums = [9, 1, 28, 6]\n",
        "insertion_sort(random_list_of_nums)\n",
        "print(random_list_of_nums)"
      ]
    }
  ],
  "metadata": {
    "colab": {
      "provenance": [],
      "authorship_tag": "ABX9TyM169yAHwFMZUjO9PlYSna+",
      "include_colab_link": true
    },
    "kernelspec": {
      "display_name": "Python 3",
      "name": "python3"
    },
    "language_info": {
      "name": "python"
    }
  },
  "nbformat": 4,
  "nbformat_minor": 0
}